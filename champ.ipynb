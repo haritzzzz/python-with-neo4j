{
 "cells": [
  {
   "cell_type": "code",
   "execution_count": 1,
   "metadata": {},
   "outputs": [],
   "source": [
    "import requests\n",
    "import bs4\n",
    "import pandas as pd"
   ]
  },
  {
   "cell_type": "code",
   "execution_count": 2,
   "metadata": {},
   "outputs": [
    {
     "ename": "FeatureNotFound",
     "evalue": "Couldn't find a tree builder with the features you requested: lxml. Do you need to install a parser library?",
     "output_type": "error",
     "traceback": [
      "\u001b[1;31m---------------------------------------------------------------------------\u001b[0m",
      "\u001b[1;31mFeatureNotFound\u001b[0m                           Traceback (most recent call last)",
      "Cell \u001b[1;32mIn[2], line 2\u001b[0m\n\u001b[0;32m      1\u001b[0m src \u001b[38;5;241m=\u001b[39m requests\u001b[38;5;241m.\u001b[39mget(\u001b[38;5;124m'\u001b[39m\u001b[38;5;124mhttps://u.gg/lol/champions/aatrox/build\u001b[39m\u001b[38;5;124m'\u001b[39m)\n\u001b[1;32m----> 2\u001b[0m soup1 \u001b[38;5;241m=\u001b[39m \u001b[43mbs4\u001b[49m\u001b[38;5;241;43m.\u001b[39;49m\u001b[43mBeautifulSoup\u001b[49m\u001b[43m(\u001b[49m\u001b[43msrc\u001b[49m\u001b[38;5;241;43m.\u001b[39;49m\u001b[43mtext\u001b[49m\u001b[43m,\u001b[49m\u001b[43m \u001b[49m\u001b[38;5;124;43m'\u001b[39;49m\u001b[38;5;124;43mlxml\u001b[39;49m\u001b[38;5;124;43m'\u001b[39;49m\u001b[43m)\u001b[49m\n\u001b[0;32m      3\u001b[0m soup1\n",
      "File \u001b[1;32mc:\\Users\\ooh_p\\AppData\\Local\\Programs\\Python\\Python312\\Lib\\site-packages\\bs4\\__init__.py:250\u001b[0m, in \u001b[0;36mBeautifulSoup.__init__\u001b[1;34m(self, markup, features, builder, parse_only, from_encoding, exclude_encodings, element_classes, **kwargs)\u001b[0m\n\u001b[0;32m    248\u001b[0m     builder_class \u001b[38;5;241m=\u001b[39m builder_registry\u001b[38;5;241m.\u001b[39mlookup(\u001b[38;5;241m*\u001b[39mfeatures)\n\u001b[0;32m    249\u001b[0m     \u001b[38;5;28;01mif\u001b[39;00m builder_class \u001b[38;5;129;01mis\u001b[39;00m \u001b[38;5;28;01mNone\u001b[39;00m:\n\u001b[1;32m--> 250\u001b[0m         \u001b[38;5;28;01mraise\u001b[39;00m FeatureNotFound(\n\u001b[0;32m    251\u001b[0m             \u001b[38;5;124m\"\u001b[39m\u001b[38;5;124mCouldn\u001b[39m\u001b[38;5;124m'\u001b[39m\u001b[38;5;124mt find a tree builder with the features you \u001b[39m\u001b[38;5;124m\"\u001b[39m\n\u001b[0;32m    252\u001b[0m             \u001b[38;5;124m\"\u001b[39m\u001b[38;5;124mrequested: \u001b[39m\u001b[38;5;132;01m%s\u001b[39;00m\u001b[38;5;124m. Do you need to install a parser library?\u001b[39m\u001b[38;5;124m\"\u001b[39m\n\u001b[0;32m    253\u001b[0m             \u001b[38;5;241m%\u001b[39m \u001b[38;5;124m\"\u001b[39m\u001b[38;5;124m,\u001b[39m\u001b[38;5;124m\"\u001b[39m\u001b[38;5;241m.\u001b[39mjoin(features))\n\u001b[0;32m    255\u001b[0m \u001b[38;5;66;03m# At this point either we have a TreeBuilder instance in\u001b[39;00m\n\u001b[0;32m    256\u001b[0m \u001b[38;5;66;03m# builder, or we have a builder_class that we can instantiate\u001b[39;00m\n\u001b[0;32m    257\u001b[0m \u001b[38;5;66;03m# with the remaining **kwargs.\u001b[39;00m\n\u001b[0;32m    258\u001b[0m \u001b[38;5;28;01mif\u001b[39;00m builder \u001b[38;5;129;01mis\u001b[39;00m \u001b[38;5;28;01mNone\u001b[39;00m:\n",
      "\u001b[1;31mFeatureNotFound\u001b[0m: Couldn't find a tree builder with the features you requested: lxml. Do you need to install a parser library?"
     ]
    }
   ],
   "source": [
    "src = requests.get('https://u.gg/lol/champions/aatrox/build')\n",
    "soup1 = bs4.BeautifulSoup(src.text, 'lxml')\n",
    "soup1"
   ]
  },
  {
   "cell_type": "code",
   "execution_count": 91,
   "metadata": {},
   "outputs": [],
   "source": [
    "rune_detail = soup1.find('div', {'class':'content-section_content recommended-build_runes'})\n",
    "\n",
    "#primary rune\n",
    "primary_rune_tree_list = []\n",
    "primary_rune_keystone_list = []\n",
    "primary_rune_rune = []\n",
    "primary_rune_rune_list = []\n",
    "\n",
    "primary_rune = rune_detail.find('div', {'class':'rune-tree_v2 primary-tree'})\n",
    "primary_rune_tree = primary_rune.find('img')['alt']\n",
    "primary_rune_tree_list.append(primary_rune_tree)\n",
    "primary_rune_k = primary_rune.find('div', {'class':'perk keystone perk-active'})\n",
    "primary_rune_keystone = primary_rune_k.find('img')['alt']\n",
    "primary_rune_keystone_list.append(primary_rune_keystone)\n",
    "primary_rune_r = primary_rune.find_all('div', {'class':'perk perk-active'})\n",
    "for i in primary_rune_r:\n",
    "    e = i.find('img')['alt']\n",
    "    primary_rune_rune.append(e)\n",
    "primary_rune_rune_list.append(primary_rune_rune)\n",
    "\n",
    "#secondary rune\n",
    "secondary_rune_tree_list = []\n",
    "secondary_rune_rune = []\n",
    "secondary_rune_rune_list = []\n",
    "\n",
    "secondary_rune = rune_detail.find('div', {'class':'secondary-tree'})\n",
    "secondary_rune_t = secondary_rune.find('div', {'class':'rune-image-container'})\n",
    "secondary_rune_tree = secondary_rune_t.find('img')['alt']\n",
    "secondary_rune_tree_list.append(secondary_rune_tree)\n",
    "secondary_rune_r = secondary_rune.find_all('div', {'class':'perk perk-active'})\n",
    "for i in secondary_rune_r:\n",
    "    e = i.find('img')['alt']\n",
    "    secondary_rune_rune.append(e)\n",
    "secondary_rune_rune_list.append(secondary_rune_rune)\n",
    "\n",
    "#shard rune\n",
    "shard_rune_rune = []\n",
    "shard_rune_rune_list = []\n",
    "\n",
    "shard_rune = rune_detail.find('div', {'class':'rune-tree_v2 stat-shards-container_v2'})\n",
    "shard_rune_r = shard_rune.find_all('div', {'class':'shard shard-active'})\n",
    "for i in shard_rune_r:\n",
    "    e = i.find('img')['alt']\n",
    "    shard_rune_rune.append(e)\n",
    "shard_rune_rune_list.append(shard_rune_rune)\n",
    "\n",
    "#spell\n",
    "suggest_spell_text = []\n",
    "suggest_spell_text_list = []\n",
    "\n",
    "summoner_spell = soup1.find('div', {'class':'content-section_content summoner-spells'})\n",
    "suggest_spell = summoner_spell.find_all('img')\n",
    "for i in suggest_spell:\n",
    "    e = i['alt']\n",
    "    suggest_spell_text.append(e)\n",
    "suggest_spell_text_list.append(suggest_spell_text)\n",
    "\n",
    "#table\n",
    "table = pd.DataFrame([primary_rune_tree_list,primary_rune_keystone_list,primary_rune_rune_list,secondary_rune_tree_list,secondary_rune_rune_list,shard_rune_rune_list,suggest_spell_text_list]).transpose()\n",
    "\n",
    "\n",
    "\n",
    "\n"
   ]
  },
  {
   "cell_type": "code",
   "execution_count": 92,
   "metadata": {},
   "outputs": [
    {
     "data": {
      "text/html": [
       "<div>\n",
       "<style scoped>\n",
       "    .dataframe tbody tr th:only-of-type {\n",
       "        vertical-align: middle;\n",
       "    }\n",
       "\n",
       "    .dataframe tbody tr th {\n",
       "        vertical-align: top;\n",
       "    }\n",
       "\n",
       "    .dataframe thead th {\n",
       "        text-align: right;\n",
       "    }\n",
       "</style>\n",
       "<table border=\"1\" class=\"dataframe\">\n",
       "  <thead>\n",
       "    <tr style=\"text-align: right;\">\n",
       "      <th></th>\n",
       "      <th>0</th>\n",
       "      <th>1</th>\n",
       "      <th>2</th>\n",
       "      <th>3</th>\n",
       "      <th>4</th>\n",
       "      <th>5</th>\n",
       "      <th>6</th>\n",
       "    </tr>\n",
       "  </thead>\n",
       "  <tbody>\n",
       "    <tr>\n",
       "      <th>0</th>\n",
       "      <td>The Rune Tree Precision</td>\n",
       "      <td>The Keystone Conqueror</td>\n",
       "      <td>[The Rune Triumph, The Rune Legend: Tenacity, ...</td>\n",
       "      <td>The Rune Tree Resolve</td>\n",
       "      <td>[The Rune Second Wind, The Rune Revitalize]</td>\n",
       "      <td>[The Adaptive Force Shard, The Adaptive Force ...</td>\n",
       "      <td>[Summoner Spell Flash, Summoner Spell Ignite]</td>\n",
       "    </tr>\n",
       "  </tbody>\n",
       "</table>\n",
       "</div>"
      ],
      "text/plain": [
       "                         0                       1  \\\n",
       "0  The Rune Tree Precision  The Keystone Conqueror   \n",
       "\n",
       "                                                   2                      3  \\\n",
       "0  [The Rune Triumph, The Rune Legend: Tenacity, ...  The Rune Tree Resolve   \n",
       "\n",
       "                                             4  \\\n",
       "0  [The Rune Second Wind, The Rune Revitalize]   \n",
       "\n",
       "                                                   5  \\\n",
       "0  [The Adaptive Force Shard, The Adaptive Force ...   \n",
       "\n",
       "                                               6  \n",
       "0  [Summoner Spell Flash, Summoner Spell Ignite]  "
      ]
     },
     "execution_count": 92,
     "metadata": {},
     "output_type": "execute_result"
    }
   ],
   "source": [
    "table"
   ]
  },
  {
   "cell_type": "code",
   "execution_count": 93,
   "metadata": {},
   "outputs": [],
   "source": [
    "rune_detail = soup1.find('div', {'class':'rune-trees-container-2 media-query media-query_MOBILE_LARGE__DESKTOP_LARGE'})"
   ]
  },
  {
   "cell_type": "code",
   "execution_count": 94,
   "metadata": {},
   "outputs": [],
   "source": [
    "primary_rune = rune_detail.find('div', {'class':'rune-tree_v2 primary-tree'})"
   ]
  },
  {
   "cell_type": "code",
   "execution_count": 95,
   "metadata": {},
   "outputs": [],
   "source": [
    "primary_rune_tree = primary_rune.find('img')['alt']"
   ]
  },
  {
   "cell_type": "code",
   "execution_count": 96,
   "metadata": {},
   "outputs": [],
   "source": [
    "primary_rune_k = primary_rune.find('div', {'class':'perk keystone perk-active'})"
   ]
  },
  {
   "cell_type": "code",
   "execution_count": 97,
   "metadata": {},
   "outputs": [],
   "source": [
    "primary_rune_keystone = primary_rune_k.find('img')['alt']"
   ]
  },
  {
   "cell_type": "code",
   "execution_count": 98,
   "metadata": {},
   "outputs": [],
   "source": [
    "primary_rune_r = primary_rune.find_all('div', {'class':'perk perk-active'})"
   ]
  },
  {
   "cell_type": "code",
   "execution_count": 99,
   "metadata": {},
   "outputs": [
    {
     "data": {
      "text/plain": [
       "[<div class=\"perk perk-active\"><img alt=\"The Rune Triumph\" class=\"\" src=\"https://static.u.gg/assets/lol/riot_static/12.12.1/img/small-perk-images/Styles/Precision/Triumph.webp\"/></div>,\n",
       " <div class=\"perk perk-active\"><img alt=\"The Rune Legend: Tenacity\" class=\"\" src=\"https://static.u.gg/assets/lol/riot_static/12.12.1/img/small-perk-images/Styles/Precision/LegendTenacity/LegendTenacity.webp\"/></div>,\n",
       " <div class=\"perk perk-active\"><img alt=\"The Rune Last Stand\" class=\"\" src=\"https://static.u.gg/assets/lol/riot_static/12.12.1/img/small-perk-images/Styles/Sorcery/LastStand/LastStand.webp\"/></div>]"
      ]
     },
     "execution_count": 99,
     "metadata": {},
     "output_type": "execute_result"
    }
   ],
   "source": [
    "primary_rune_r"
   ]
  },
  {
   "cell_type": "code",
   "execution_count": 100,
   "metadata": {},
   "outputs": [],
   "source": [
    "primary_rune_rune = []\n",
    "primary_rune_rune_list = []\n",
    "for i in primary_rune_r:\n",
    "    e = i.find('img')['alt']\n",
    "    primary_rune_rune.append(e)\n",
    "primary_rune_rune_list.append(primary_rune_rune)"
   ]
  },
  {
   "cell_type": "code",
   "execution_count": 101,
   "metadata": {},
   "outputs": [
    {
     "data": {
      "text/plain": [
       "[['The Rune Triumph', 'The Rune Legend: Tenacity', 'The Rune Last Stand']]"
      ]
     },
     "execution_count": 101,
     "metadata": {},
     "output_type": "execute_result"
    }
   ],
   "source": [
    "primary_rune_rune_list"
   ]
  },
  {
   "cell_type": "code",
   "execution_count": 102,
   "metadata": {},
   "outputs": [],
   "source": [
    "secondary_rune = rune_detail.find('div', {'class':'secondary-tree'})"
   ]
  },
  {
   "cell_type": "code",
   "execution_count": 103,
   "metadata": {},
   "outputs": [],
   "source": [
    "secondary_rune_t = secondary_rune.find('div', {'class':'rune-image-container'})"
   ]
  },
  {
   "cell_type": "code",
   "execution_count": 104,
   "metadata": {},
   "outputs": [],
   "source": [
    "secondary_rune_tree = secondary_rune_t.find('img')['alt']"
   ]
  },
  {
   "cell_type": "code",
   "execution_count": 105,
   "metadata": {},
   "outputs": [],
   "source": [
    "secondary_rune_r = secondary_rune.find_all('div', {'class':'perk perk-active'})"
   ]
  },
  {
   "cell_type": "code",
   "execution_count": 106,
   "metadata": {},
   "outputs": [
    {
     "data": {
      "text/plain": [
       "['The Rune Second Wind', 'The Rune Revitalize']"
      ]
     },
     "execution_count": 106,
     "metadata": {},
     "output_type": "execute_result"
    }
   ],
   "source": [
    "secondary_rune_rune = []\n",
    "for i in secondary_rune_r:\n",
    "    e = i.find('img')['alt']\n",
    "    secondary_rune_rune.append(e)\n",
    "secondary_rune_rune"
   ]
  },
  {
   "cell_type": "code",
   "execution_count": 107,
   "metadata": {},
   "outputs": [],
   "source": [
    "shard_rune = rune_detail.find('div', {'class':'rune-tree_v2 stat-shards-container_v2'})"
   ]
  },
  {
   "cell_type": "code",
   "execution_count": 108,
   "metadata": {},
   "outputs": [],
   "source": [
    "shard_rune_r = shard_rune.find_all('div', {'class':'shard shard-active'})"
   ]
  },
  {
   "cell_type": "code",
   "execution_count": 109,
   "metadata": {},
   "outputs": [
    {
     "data": {
      "text/plain": [
       "['The Adaptive Force Shard',\n",
       " 'The Adaptive Force Shard',\n",
       " 'The Magic Resist Shard']"
      ]
     },
     "execution_count": 109,
     "metadata": {},
     "output_type": "execute_result"
    }
   ],
   "source": [
    "shard_rune_rune = []\n",
    "for i in shard_rune_r:\n",
    "    e = i.find('img')['alt']\n",
    "    shard_rune_rune.append(e)\n",
    "shard_rune_rune"
   ]
  },
  {
   "cell_type": "code",
   "execution_count": 110,
   "metadata": {},
   "outputs": [],
   "source": [
    "summoner_spell = soup1.find('div', {'class':'content-section_content summoner-spells'})"
   ]
  },
  {
   "cell_type": "code",
   "execution_count": 111,
   "metadata": {},
   "outputs": [],
   "source": [
    "suggest_spell = summoner_spell.find_all('img')"
   ]
  },
  {
   "cell_type": "code",
   "execution_count": 112,
   "metadata": {},
   "outputs": [
    {
     "data": {
      "text/plain": [
       "['Summoner Spell Flash', 'Summoner Spell Ignite']"
      ]
     },
     "execution_count": 112,
     "metadata": {},
     "output_type": "execute_result"
    }
   ],
   "source": [
    "suggest_spell_text = []\n",
    "for i in suggest_spell:\n",
    "    e = i['alt']\n",
    "    suggest_spell_text.append(e)\n",
    "suggest_spell_text"
   ]
  },
  {
   "cell_type": "code",
   "execution_count": 113,
   "metadata": {},
   "outputs": [],
   "source": [
    "item_detail = soup1.find('div', {'class':'content-section content-section_no-padding recommended-build_items media-query media-query_MOBILE_SMALL__MOBILE_LARGE'})"
   ]
  },
  {
   "cell_type": "code",
   "execution_count": 114,
   "metadata": {},
   "outputs": [
    {
     "data": {
      "text/plain": [
       "'https://static.u.gg/assets/lol/riot_static/12.12.1/img/sprite/item2.webp'"
      ]
     },
     "execution_count": 114,
     "metadata": {},
     "output_type": "execute_result"
    }
   ],
   "source": [
    "\"https://static.u.gg/assets/lol/riot_static/12.12.1/img/sprite/item2.webp\""
   ]
  }
 ],
 "metadata": {
  "kernelspec": {
   "display_name": "Python 3.10.5 64-bit",
   "language": "python",
   "name": "python3"
  },
  "language_info": {
   "codemirror_mode": {
    "name": "ipython",
    "version": 3
   },
   "file_extension": ".py",
   "mimetype": "text/x-python",
   "name": "python",
   "nbconvert_exporter": "python",
   "pygments_lexer": "ipython3",
   "version": "3.12.0"
  },
  "orig_nbformat": 4,
  "vscode": {
   "interpreter": {
    "hash": "1dc24937cd1d88193b6b23aac0f0a06380f2394c6376c99f0a82f0f262bbbd81"
   }
  }
 },
 "nbformat": 4,
 "nbformat_minor": 2
}
